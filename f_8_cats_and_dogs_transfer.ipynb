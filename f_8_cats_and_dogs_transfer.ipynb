{
  "nbformat": 4,
  "nbformat_minor": 0,
  "metadata": {
    "colab": {
      "name": "f-8-cats-and-dogs-transfer",
      "version": "0.3.2",
      "provenance": [],
      "collapsed_sections": [],
      "include_colab_link": true
    },
    "kernelspec": {
      "name": "python2",
      "display_name": "Python 2"
    },
    "accelerator": "GPU"
  },
  "cells": [
    {
      "cell_type": "markdown",
      "metadata": {
        "id": "view-in-github",
        "colab_type": "text"
      },
      "source": [
        "<a href=\"https://colab.research.google.com/github/ciu999/note/blob/master/f_8_cats_and_dogs_transfer.ipynb\" target=\"_parent\"><img src=\"https://colab.research.google.com/assets/colab-badge.svg\" alt=\"Open In Colab\"/></a>"
      ]
    },
    {
      "metadata": {
        "colab_type": "text",
        "id": "YHK6DyunSbs4"
      },
      "cell_type": "markdown",
      "source": [
        "# 전이학습 고양이 강아지 구분\n",
        "## VGG16 (2014)\n",
        "- 이미지넷으로 사전 훈련된 네트워크를 사용\n",
        "- 1000개의 객체를 구분하는 모델이나, 여기서는 고양이, 강아지 구분에 사용  \n",
        "\n",
        "## 1) 특성추출 방식\n",
        "- 합성곱 필터링 영역(convolutional base)를 그대로 사용\n",
        "- 공통되는 특성만 추출하여 사용한다\n",
        "- 전결합망 부분은 새로운 데이터 (고양이/강아지)로 학습을 다시 시킨다\n",
        "\n",
        "\n",
        "## 2) 미세 조정 방식\n"
      ]
    },
    {
      "metadata": {
        "colab_type": "text",
        "id": "UY6KJV6z6l7_"
      },
      "cell_type": "markdown",
      "source": [
        "## 데이터 다운로드"
      ]
    },
    {
      "metadata": {
        "id": "BintRJjr1QvS",
        "colab_type": "code",
        "colab": {}
      },
      "cell_type": "code",
      "source": [
        "import os, os.path, shutil\n",
        "import zipfile\n",
        "%matplotlib inline\n",
        "\n",
        "import matplotlib.pyplot as plt\n",
        "import matplotlib.image as mpimg\n",
        "from keras.applications import VGG16"
      ],
      "execution_count": 0,
      "outputs": []
    },
    {
      "metadata": {
        "id": "mxOElr1tG82n",
        "colab_type": "text"
      },
      "cell_type": "markdown",
      "source": [
        "## VGG16으로 사전학습된 가중치 가져오기\n",
        "- include_top은 기존의 1000개 전결합망 분류기를 포함할지를 선택"
      ]
    },
    {
      "metadata": {
        "id": "39bxJu-BGL9N",
        "colab_type": "code",
        "outputId": "8c16064a-2f22-4807-fc26-6f370f12aa5d",
        "colab": {
          "base_uri": "https://localhost:8080/",
          "height": 91
        }
      },
      "cell_type": "code",
      "source": [
        "conv_base = VGG16(weights = 'imagenet',\n",
        "                 include_top=False,\n",
        "                 input_shape=(150, 150, 3))"
      ],
      "execution_count": 3,
      "outputs": [
        {
          "output_type": "stream",
          "text": [
            "Downloading data from https://github.com/fchollet/deep-learning-models/releases/download/v0.1/vgg16_weights_tf_dim_ordering_tf_kernels_notop.h5\n",
            "58892288/58889256 [==============================] - 2s 0us/step\n",
            "58900480/58889256 [==============================] - 2s 0us/step\n"
          ],
          "name": "stdout"
        }
      ]
    },
    {
      "metadata": {
        "id": "84MocF__GLuw",
        "colab_type": "code",
        "outputId": "34b89318-d222-4083-91dc-c340c678758d",
        "colab": {
          "base_uri": "https://localhost:8080/",
          "height": 827
        }
      },
      "cell_type": "code",
      "source": [
        "conv_base.summary()"
      ],
      "execution_count": 4,
      "outputs": [
        {
          "output_type": "stream",
          "text": [
            "_________________________________________________________________\n",
            "Layer (type)                 Output Shape              Param #   \n",
            "=================================================================\n",
            "input_1 (InputLayer)         (None, 150, 150, 3)       0         \n",
            "_________________________________________________________________\n",
            "block1_conv1 (Conv2D)        (None, 150, 150, 64)      1792      \n",
            "_________________________________________________________________\n",
            "block1_conv2 (Conv2D)        (None, 150, 150, 64)      36928     \n",
            "_________________________________________________________________\n",
            "block1_pool (MaxPooling2D)   (None, 75, 75, 64)        0         \n",
            "_________________________________________________________________\n",
            "block2_conv1 (Conv2D)        (None, 75, 75, 128)       73856     \n",
            "_________________________________________________________________\n",
            "block2_conv2 (Conv2D)        (None, 75, 75, 128)       147584    \n",
            "_________________________________________________________________\n",
            "block2_pool (MaxPooling2D)   (None, 37, 37, 128)       0         \n",
            "_________________________________________________________________\n",
            "block3_conv1 (Conv2D)        (None, 37, 37, 256)       295168    \n",
            "_________________________________________________________________\n",
            "block3_conv2 (Conv2D)        (None, 37, 37, 256)       590080    \n",
            "_________________________________________________________________\n",
            "block3_conv3 (Conv2D)        (None, 37, 37, 256)       590080    \n",
            "_________________________________________________________________\n",
            "block3_pool (MaxPooling2D)   (None, 18, 18, 256)       0         \n",
            "_________________________________________________________________\n",
            "block4_conv1 (Conv2D)        (None, 18, 18, 512)       1180160   \n",
            "_________________________________________________________________\n",
            "block4_conv2 (Conv2D)        (None, 18, 18, 512)       2359808   \n",
            "_________________________________________________________________\n",
            "block4_conv3 (Conv2D)        (None, 18, 18, 512)       2359808   \n",
            "_________________________________________________________________\n",
            "block4_pool (MaxPooling2D)   (None, 9, 9, 512)         0         \n",
            "_________________________________________________________________\n",
            "block5_conv1 (Conv2D)        (None, 9, 9, 512)         2359808   \n",
            "_________________________________________________________________\n",
            "block5_conv2 (Conv2D)        (None, 9, 9, 512)         2359808   \n",
            "_________________________________________________________________\n",
            "block5_conv3 (Conv2D)        (None, 9, 9, 512)         2359808   \n",
            "_________________________________________________________________\n",
            "block5_pool (MaxPooling2D)   (None, 4, 4, 512)         0         \n",
            "=================================================================\n",
            "Total params: 14,714,688\n",
            "Trainable params: 14,714,688\n",
            "Non-trainable params: 0\n",
            "_________________________________________________________________\n"
          ],
          "name": "stdout"
        }
      ]
    },
    {
      "metadata": {
        "id": "wLStHmXaMqja",
        "colab_type": "text"
      },
      "cell_type": "markdown",
      "source": [
        "## 두가지 옵션이 가능하다\n",
        "### 1) 합성곱 기반을 통과한 출력을 저장한 후 이를 전결합망에 통과\n",
        "- 데이터 확장은 사용할 수 없다\n",
        "- 실행이 빠르다\n",
        "\n",
        "### 2) 모델에 Dense망을 추가하고 학습을 수행\n",
        "- 데이터 확장을 사용할 수 있다.\n",
        "- 비용이 많이 든다\n",
        "\n",
        "\n",
        "### 1) 방식을 먼저 수행한다.\n"
      ]
    },
    {
      "metadata": {
        "id": "kkMqucDvN0Qy",
        "colab_type": "text"
      },
      "cell_type": "markdown",
      "source": [
        "### 데이터 읽기"
      ]
    },
    {
      "metadata": {
        "id": "r9hD7mAvGLVZ",
        "colab_type": "code",
        "colab": {}
      },
      "cell_type": "code",
      "source": [
        ""
      ],
      "execution_count": 0,
      "outputs": []
    },
    {
      "metadata": {
        "id": "JHHE2t4yxpMU",
        "colab_type": "code",
        "outputId": "f2e08ff3-8944-4c27-8eaa-6ee36ebf2cf6",
        "colab": {
          "base_uri": "https://localhost:8080/",
          "height": 215
        }
      },
      "cell_type": "code",
      "source": [
        "if not os.path.exists(\"./data\"):\n",
        "    os.makedirs(\"./data\")\n",
        "if not os.path.exists(\"./data/cats_and_dogs_filtered.zip\"):\n",
        "  !wget --no-check-certificate \\\n",
        "    https://storage.googleapis.com/mledu-datasets/cats_and_dogs_filtered.zip \\\n",
        "    -O ./data/cats_and_dogs_filtered.zip"
      ],
      "execution_count": 5,
      "outputs": [
        {
          "output_type": "stream",
          "text": [
            "--2018-12-11 04:11:54--  https://storage.googleapis.com/mledu-datasets/cats_and_dogs_filtered.zip\n",
            "Resolving storage.googleapis.com (storage.googleapis.com)... 74.125.142.128, 2607:f8b0:400e:c08::80\n",
            "Connecting to storage.googleapis.com (storage.googleapis.com)|74.125.142.128|:443... connected.\n",
            "HTTP request sent, awaiting response... 200 OK\n",
            "Length: 68606236 (65M) [application/zip]\n",
            "Saving to: ‘./data/cats_and_dogs_filtered.zip’\n",
            "\n",
            "\r          ./data/ca   0%[                    ]       0  --.-KB/s               \r         ./data/cat  26%[====>               ]  17.66M  88.3MB/s               \r        ./data/cats  85%[================>   ]  55.77M   139MB/s               \r./data/cats_and_dog 100%[===================>]  65.43M   145MB/s    in 0.5s    \n",
            "\n",
            "2018-12-11 04:11:55 (145 MB/s) - ‘./data/cats_and_dogs_filtered.zip’ saved [68606236/68606236]\n",
            "\n"
          ],
          "name": "stdout"
        }
      ]
    },
    {
      "metadata": {
        "id": "rB0mr2KJzs3M",
        "colab_type": "code",
        "outputId": "38c38cc3-ba18-4553-b267-dc00433930e6",
        "colab": {
          "base_uri": "https://localhost:8080/",
          "height": 35
        }
      },
      "cell_type": "code",
      "source": [
        "!ls data"
      ],
      "execution_count": 6,
      "outputs": [
        {
          "output_type": "stream",
          "text": [
            "cats_and_dogs_filtered.zip\n"
          ],
          "name": "stdout"
        }
      ]
    },
    {
      "metadata": {
        "colab_type": "code",
        "id": "PLy3pthUS0D2",
        "colab": {}
      },
      "cell_type": "code",
      "source": [
        "local_zip = './data/cats_and_dogs_filtered.zip'\n",
        "zip_ref = zipfile.ZipFile(local_zip, 'r')\n",
        "zip_ref.extractall('./data')\n",
        "zip_ref.close()"
      ],
      "execution_count": 0,
      "outputs": []
    },
    {
      "metadata": {
        "id": "VeJd7lxOy26s",
        "colab_type": "code",
        "outputId": "5e065aa1-bd30-4594-fd4a-a4edb1189be5",
        "colab": {
          "base_uri": "https://localhost:8080/",
          "height": 305
        }
      },
      "cell_type": "code",
      "source": [
        "!apt-get install tree"
      ],
      "execution_count": 8,
      "outputs": [
        {
          "output_type": "stream",
          "text": [
            "Reading package lists... Done\n",
            "Building dependency tree       \n",
            "Reading state information... Done\n",
            "The following NEW packages will be installed:\n",
            "  tree\n",
            "0 upgraded, 1 newly installed, 0 to remove and 10 not upgraded.\n",
            "Need to get 40.7 kB of archives.\n",
            "After this operation, 105 kB of additional disk space will be used.\n",
            "Get:1 http://archive.ubuntu.com/ubuntu bionic/universe amd64 tree amd64 1.7.0-5 [40.7 kB]\n",
            "Fetched 40.7 kB in 1s (36.6 kB/s)\n",
            "Selecting previously unselected package tree.\n",
            "(Reading database ... 26397 files and directories currently installed.)\n",
            "Preparing to unpack .../tree_1.7.0-5_amd64.deb ...\n",
            "Unpacking tree (1.7.0-5) ...\n",
            "Setting up tree (1.7.0-5) ...\n",
            "Processing triggers for man-db (2.8.3-2ubuntu0.1) ...\n"
          ],
          "name": "stdout"
        }
      ]
    },
    {
      "metadata": {
        "id": "eKBizBLr0M8w",
        "colab_type": "code",
        "outputId": "29ba443e-e893-4ec3-f37c-b9beedbc0384",
        "colab": {
          "base_uri": "https://localhost:8080/",
          "height": 233
        }
      },
      "cell_type": "code",
      "source": [
        "!tree -d ."
      ],
      "execution_count": 9,
      "outputs": [
        {
          "output_type": "stream",
          "text": [
            ".\n",
            "├── data\n",
            "│   └── cats_and_dogs_filtered\n",
            "│       ├── train\n",
            "│       │   ├── cats\n",
            "│       │   └── dogs\n",
            "│       └── validation\n",
            "│           ├── cats\n",
            "│           └── dogs\n",
            "└── sample_data\n",
            "\n",
            "9 directories\n"
          ],
          "name": "stdout"
        }
      ]
    },
    {
      "metadata": {
        "colab_type": "code",
        "id": "MLZKVtE0dSfk",
        "colab": {}
      },
      "cell_type": "code",
      "source": [
        "base_dir = './data/cats_and_dogs_filtered'\n",
        "train_dir = os.path.join(base_dir, 'train')\n",
        "validation_dir = os.path.join(base_dir, 'validation')"
      ],
      "execution_count": 0,
      "outputs": []
    },
    {
      "metadata": {
        "id": "I-gqmVtXI1If",
        "colab_type": "code",
        "outputId": "a21eafd7-107e-4140-8927-3ebf23d01b17",
        "colab": {
          "base_uri": "https://localhost:8080/",
          "height": 35
        }
      },
      "cell_type": "code",
      "source": [
        "train_dir"
      ],
      "execution_count": 11,
      "outputs": [
        {
          "output_type": "execute_result",
          "data": {
            "text/plain": [
              "'./data/cats_and_dogs_filtered/train'"
            ]
          },
          "metadata": {
            "tags": []
          },
          "execution_count": 11
        }
      ]
    },
    {
      "metadata": {
        "colab_type": "text",
        "id": "5oqBkNBJmtUv"
      },
      "cell_type": "markdown",
      "source": [
        "## 특성추출만 사용한 모델 (데이터 증식은 사용하지 않는 방식)\n",
        "- ImageDataGenerator를 사용하여 이미지와 레이블을 생성\n",
        "- conv_base 모델의 predict를 사용하여 이미지의 특성을 추출\n",
        "- 마지막 출력의 크기가 (4, 4, 512)이다.\n"
      ]
    },
    {
      "metadata": {
        "colab_type": "code",
        "id": "IYVLSfbsbf9K",
        "colab": {}
      },
      "cell_type": "code",
      "source": [
        "from keras import layers\n",
        "from keras import models\n",
        "from keras import optimizers\n",
        "from keras.preprocessing import image\n",
        "from keras.preprocessing.image import ImageDataGenerator\n",
        "import numpy as np "
      ],
      "execution_count": 0,
      "outputs": []
    },
    {
      "metadata": {
        "id": "zKpFv6lSGmtR",
        "colab_type": "code",
        "outputId": "bf0a04ee-d2b7-4e05-a6b0-7e27ac92dda9",
        "colab": {
          "base_uri": "https://localhost:8080/",
          "height": 287
        }
      },
      "cell_type": "code",
      "source": [
        "img_width = 150\n",
        "img_height = 150\n",
        "batch_size=20\n",
        "\n",
        "datagen = ImageDataGenerator(rescale = 1./255)\n",
        "\n",
        "def extract_features(directory, sample_count):\n",
        "  features = np.zeros(shape=(sample_count, 4, 4, 512))\n",
        "  labels = np.zeros(shape=(sample_count))\n",
        "  generator = datagen.flow_from_directory(\n",
        "      directory,\n",
        " \t    target_size=(img_width,img_height),\n",
        "      class_mode='binary',\n",
        "\t\t\tbatch_size=batch_size)\n",
        "  i=1\n",
        "  for inputs_batch, labels_batch in generator:\n",
        "    features_batch = conv_base.predict(inputs_batch)\n",
        "    features[i*batch_size:(i+1)*batch_size] = features_batch\n",
        "    labels[i*batch_size:(i+1)*batch_size] = labels_batch\n",
        "    i += 1\n",
        "    if i* batch_size >= sample_count:\n",
        "      break\n",
        "  return features, labels\n",
        "\n",
        "train_features, train_labels = extract_features(train_dir, 2000)\n",
        "validation_features, validation_labels = extract_features(validation_dir, 1000)\n",
        "\n",
        "train_features = np.reshape(train_features, (2000, 4*4*512))\n",
        "validation_features = np.reshape(validation_features, (1000, 4*4*512))\n",
        "\n",
        "    \n",
        "model = models.Sequential()\n",
        "\n",
        "model.add(layers.Dense(512, activation='relu', input_dim= 4*4*512))\n",
        "model.add(layers.Dropout(0.5))\n",
        "model.add(layers.Dense(1, activation='sigmoid'))\n",
        "\n",
        "model.summary()"
      ],
      "execution_count": 13,
      "outputs": [
        {
          "output_type": "stream",
          "text": [
            "Found 2000 images belonging to 2 classes.\n",
            "Found 1000 images belonging to 2 classes.\n",
            "_________________________________________________________________\n",
            "Layer (type)                 Output Shape              Param #   \n",
            "=================================================================\n",
            "dense_1 (Dense)              (None, 512)               4194816   \n",
            "_________________________________________________________________\n",
            "dropout_1 (Dropout)          (None, 512)               0         \n",
            "_________________________________________________________________\n",
            "dense_2 (Dense)              (None, 1)                 513       \n",
            "=================================================================\n",
            "Total params: 4,195,329\n",
            "Trainable params: 4,195,329\n",
            "Non-trainable params: 0\n",
            "_________________________________________________________________\n"
          ],
          "name": "stdout"
        }
      ]
    },
    {
      "metadata": {
        "id": "hxITBhxQDwkd",
        "colab_type": "code",
        "outputId": "aaaf862a-92b7-4ffe-ca67-bdcafc97882c",
        "colab": {
          "base_uri": "https://localhost:8080/",
          "height": 1115
        }
      },
      "cell_type": "code",
      "source": [
        "model.compile(loss='binary_crossentropy',\n",
        "              optimizer=optimizers.RMSprop(lr=2e-5),\n",
        "              metrics=['acc'])\n",
        "history = model.fit(\n",
        "    train_features, train_labels,\n",
        "    epochs=30,\n",
        "    validation_data= (validation_features, validation_labels),\n",
        "    batch_size=batch_size)"
      ],
      "execution_count": 14,
      "outputs": [
        {
          "output_type": "stream",
          "text": [
            "Train on 2000 samples, validate on 1000 samples\n",
            "Epoch 1/30\n",
            "2000/2000 [==============================] - 2s 1ms/step - loss: 0.5596 - acc: 0.7075 - val_loss: 0.3997 - val_acc: 0.8440\n",
            "Epoch 2/30\n",
            "2000/2000 [==============================] - 1s 522us/step - loss: 0.3886 - acc: 0.8310 - val_loss: 0.3413 - val_acc: 0.8620\n",
            "Epoch 3/30\n",
            "2000/2000 [==============================] - 1s 548us/step - loss: 0.3255 - acc: 0.8700 - val_loss: 0.3130 - val_acc: 0.8770\n",
            "Epoch 4/30\n",
            "2000/2000 [==============================] - 1s 547us/step - loss: 0.2867 - acc: 0.8885 - val_loss: 0.3006 - val_acc: 0.8820\n",
            "Epoch 5/30\n",
            "2000/2000 [==============================] - 1s 544us/step - loss: 0.2544 - acc: 0.9045 - val_loss: 0.2930 - val_acc: 0.8810\n",
            "Epoch 6/30\n",
            "2000/2000 [==============================] - 1s 546us/step - loss: 0.2388 - acc: 0.9110 - val_loss: 0.2851 - val_acc: 0.8810\n",
            "Epoch 7/30\n",
            "2000/2000 [==============================] - 1s 543us/step - loss: 0.2158 - acc: 0.9215 - val_loss: 0.2810 - val_acc: 0.8810\n",
            "Epoch 8/30\n",
            "2000/2000 [==============================] - 1s 543us/step - loss: 0.2082 - acc: 0.9195 - val_loss: 0.2756 - val_acc: 0.8920\n",
            "Epoch 9/30\n",
            "2000/2000 [==============================] - 1s 549us/step - loss: 0.1915 - acc: 0.9320 - val_loss: 0.2733 - val_acc: 0.8870\n",
            "Epoch 10/30\n",
            "2000/2000 [==============================] - 1s 547us/step - loss: 0.1886 - acc: 0.9330 - val_loss: 0.2759 - val_acc: 0.8890\n",
            "Epoch 11/30\n",
            "2000/2000 [==============================] - 1s 551us/step - loss: 0.1756 - acc: 0.9390 - val_loss: 0.2828 - val_acc: 0.8850\n",
            "Epoch 12/30\n",
            "2000/2000 [==============================] - 1s 542us/step - loss: 0.1596 - acc: 0.9485 - val_loss: 0.2685 - val_acc: 0.8850\n",
            "Epoch 13/30\n",
            "2000/2000 [==============================] - 1s 544us/step - loss: 0.1554 - acc: 0.9470 - val_loss: 0.2670 - val_acc: 0.8820\n",
            "Epoch 14/30\n",
            "2000/2000 [==============================] - 1s 544us/step - loss: 0.1459 - acc: 0.9505 - val_loss: 0.2741 - val_acc: 0.8750\n",
            "Epoch 15/30\n",
            "2000/2000 [==============================] - 1s 540us/step - loss: 0.1385 - acc: 0.9545 - val_loss: 0.2674 - val_acc: 0.8850\n",
            "Epoch 16/30\n",
            "2000/2000 [==============================] - 1s 549us/step - loss: 0.1280 - acc: 0.9600 - val_loss: 0.2676 - val_acc: 0.8850\n",
            "Epoch 17/30\n",
            "2000/2000 [==============================] - 1s 551us/step - loss: 0.1216 - acc: 0.9635 - val_loss: 0.2663 - val_acc: 0.8860\n",
            "Epoch 18/30\n",
            "2000/2000 [==============================] - 1s 543us/step - loss: 0.1159 - acc: 0.9660 - val_loss: 0.2697 - val_acc: 0.8860\n",
            "Epoch 19/30\n",
            "2000/2000 [==============================] - 1s 544us/step - loss: 0.1163 - acc: 0.9605 - val_loss: 0.2667 - val_acc: 0.8870\n",
            "Epoch 20/30\n",
            "2000/2000 [==============================] - 1s 542us/step - loss: 0.1045 - acc: 0.9735 - val_loss: 0.2696 - val_acc: 0.8840\n",
            "Epoch 21/30\n",
            "2000/2000 [==============================] - 1s 550us/step - loss: 0.1018 - acc: 0.9645 - val_loss: 0.2702 - val_acc: 0.8880\n",
            "Epoch 22/30\n",
            "2000/2000 [==============================] - 1s 547us/step - loss: 0.0936 - acc: 0.9745 - val_loss: 0.2745 - val_acc: 0.8900\n",
            "Epoch 23/30\n",
            "2000/2000 [==============================] - 1s 543us/step - loss: 0.0896 - acc: 0.9780 - val_loss: 0.2749 - val_acc: 0.8900\n",
            "Epoch 24/30\n",
            "2000/2000 [==============================] - 1s 542us/step - loss: 0.0882 - acc: 0.9745 - val_loss: 0.2756 - val_acc: 0.8840\n",
            "Epoch 25/30\n",
            "2000/2000 [==============================] - 1s 542us/step - loss: 0.0866 - acc: 0.9770 - val_loss: 0.2750 - val_acc: 0.8870\n",
            "Epoch 26/30\n",
            "2000/2000 [==============================] - 1s 540us/step - loss: 0.0800 - acc: 0.9795 - val_loss: 0.2730 - val_acc: 0.8870\n",
            "Epoch 27/30\n",
            "2000/2000 [==============================] - 1s 546us/step - loss: 0.0742 - acc: 0.9800 - val_loss: 0.2775 - val_acc: 0.8940\n",
            "Epoch 28/30\n",
            "2000/2000 [==============================] - 1s 550us/step - loss: 0.0755 - acc: 0.9830 - val_loss: 0.2745 - val_acc: 0.8880\n",
            "Epoch 29/30\n",
            "2000/2000 [==============================] - 1s 550us/step - loss: 0.0681 - acc: 0.9840 - val_loss: 0.2785 - val_acc: 0.8840\n",
            "Epoch 30/30\n",
            "2000/2000 [==============================] - 1s 549us/step - loss: 0.0681 - acc: 0.9845 - val_loss: 0.2791 - val_acc: 0.8890\n"
          ],
          "name": "stdout"
        }
      ]
    },
    {
      "metadata": {
        "colab_type": "text",
        "id": "Q5Vulban4ZrD"
      },
      "cell_type": "markdown",
      "source": [
        "## 성능 확인"
      ]
    },
    {
      "metadata": {
        "colab_type": "code",
        "id": "0oj0gTIy4k60",
        "outputId": "64f5b075-dda0-45e2-e94f-8b4578d58f82",
        "colab": {
          "base_uri": "https://localhost:8080/",
          "height": 561
        }
      },
      "cell_type": "code",
      "source": [
        "acc = history.history['acc']\n",
        "val_acc = history.history['val_acc']\n",
        "\n",
        "loss = history.history['loss']\n",
        "val_loss = history.history['val_loss']\n",
        "\n",
        "epochs = range(len(acc))\n",
        "\n",
        "plt.plot(epochs, acc)\n",
        "plt.plot(epochs, val_acc)\n",
        "plt.title('Training and validation accuracy')\n",
        "\n",
        "plt.figure()\n",
        "\n",
        "plt.plot(epochs, loss)\n",
        "plt.plot(epochs, val_loss)\n",
        "plt.title('Training and validation loss')"
      ],
      "execution_count": 15,
      "outputs": [
        {
          "output_type": "execute_result",
          "data": {
            "text/plain": [
              "Text(0.5,1,u'Training and validation loss')"
            ]
          },
          "metadata": {
            "tags": []
          },
          "execution_count": 15
        },
        {
          "output_type": "display_data",
          "data": {
            "image/png": "[encoded data removed]",
            "text/plain": [
              "<matplotlib.figure.Figure at 0x7feb63eca910>"
            ]
          },
          "metadata": {
            "tags": []
          }
        },
        {
          "output_type": "display_data",
          "data": {
            "image/png": "[encoded data removed]",
            "text/plain": [
              "<matplotlib.figure.Figure at 0x7feb63eb38d0>"
            ]
          },
          "metadata": {
            "tags": []
          }
        }
      ]
    },
    {
      "metadata": {
        "colab_type": "text",
        "id": "DgmSjUST4qoS"
      },
      "cell_type": "markdown",
      "source": [
        "### 과대적합이 발생한 것을 알 수 있다.\n",
        "- 훈련 데이터가 부족하다\n",
        "- 데이터 확장을 사용하여 개선할 수 있다."
      ]
    },
    {
      "metadata": {
        "id": "zY8xC3RKIMjf",
        "colab_type": "text"
      },
      "cell_type": "markdown",
      "source": [
        "### 2) 모델에 Dense망을 추가하고 학습을 수행\n",
        "- 데이터 확장을 사용할 수 있다.\n",
        "- 비용이 많이 든다\n",
        "- 엔드-투-엔드로 실행한다"
      ]
    },
    {
      "metadata": {
        "id": "dEPZtbjoYyko",
        "colab_type": "code",
        "outputId": "4a81d8cb-0518-42d4-992a-f87f3f792211",
        "colab": {
          "base_uri": "https://localhost:8080/",
          "height": 287
        }
      },
      "cell_type": "code",
      "source": [
        "# 모델\n",
        "\n",
        "model = models.Sequential()\n",
        "model.add(conv_base)\n",
        "\n",
        "model.add(layers.Flatten())\n",
        "model.add(layers.Dense(256, activation='relu'))\n",
        "model.add(layers.Dense(1, activation='sigmoid'))\n",
        "\n",
        "model.summary()"
      ],
      "execution_count": 16,
      "outputs": [
        {
          "output_type": "stream",
          "text": [
            "_________________________________________________________________\n",
            "Layer (type)                 Output Shape              Param #   \n",
            "=================================================================\n",
            "vgg16 (Model)                (None, 4, 4, 512)         14714688  \n",
            "_________________________________________________________________\n",
            "flatten_1 (Flatten)          (None, 8192)              0         \n",
            "_________________________________________________________________\n",
            "dense_3 (Dense)              (None, 256)               2097408   \n",
            "_________________________________________________________________\n",
            "dense_4 (Dense)              (None, 1)                 257       \n",
            "=================================================================\n",
            "Total params: 16,812,353\n",
            "Trainable params: 16,812,353\n",
            "Non-trainable params: 0\n",
            "_________________________________________________________________\n"
          ],
          "name": "stdout"
        }
      ]
    },
    {
      "metadata": {
        "id": "cRwp7DKRZNey",
        "colab_type": "text"
      },
      "cell_type": "markdown",
      "source": [
        "## 학습을 동결하지 않으면 모두 재 학습된다!"
      ]
    },
    {
      "metadata": {
        "id": "81xIo14SZaM_",
        "colab_type": "code",
        "outputId": "1f714714-7e95-45bf-e7b0-2df9775bc6a4",
        "colab": {
          "base_uri": "https://localhost:8080/",
          "height": 35
        }
      },
      "cell_type": "code",
      "source": [
        "print(len(model.trainable_weights))"
      ],
      "execution_count": 17,
      "outputs": [
        {
          "output_type": "stream",
          "text": [
            "30\n"
          ],
          "name": "stdout"
        }
      ]
    },
    {
      "metadata": {
        "id": "1I-bJVROjbEi",
        "colab_type": "code",
        "colab": {}
      },
      "cell_type": "code",
      "source": [
        "conv_base.trainable = False"
      ],
      "execution_count": 0,
      "outputs": []
    },
    {
      "metadata": {
        "id": "MN5_TfDJjisU",
        "colab_type": "code",
        "outputId": "ecd8c3eb-42ef-41fc-8042-bfdffded6aa2",
        "colab": {
          "base_uri": "https://localhost:8080/",
          "height": 35
        }
      },
      "cell_type": "code",
      "source": [
        "print(len(model.trainable_weights))"
      ],
      "execution_count": 19,
      "outputs": [
        {
          "output_type": "stream",
          "text": [
            "4\n"
          ],
          "name": "stdout"
        }
      ]
    },
    {
      "metadata": {
        "id": "OUz97nA0jr_y",
        "colab_type": "code",
        "outputId": "b8dc81cc-1b0d-4212-a90c-f80baf4a42cc",
        "colab": {
          "base_uri": "https://localhost:8080/",
          "height": 287
        }
      },
      "cell_type": "code",
      "source": [
        "model.summary()"
      ],
      "execution_count": 20,
      "outputs": [
        {
          "output_type": "stream",
          "text": [
            "_________________________________________________________________\n",
            "Layer (type)                 Output Shape              Param #   \n",
            "=================================================================\n",
            "vgg16 (Model)                (None, 4, 4, 512)         14714688  \n",
            "_________________________________________________________________\n",
            "flatten_1 (Flatten)          (None, 8192)              0         \n",
            "_________________________________________________________________\n",
            "dense_3 (Dense)              (None, 256)               2097408   \n",
            "_________________________________________________________________\n",
            "dense_4 (Dense)              (None, 1)                 257       \n",
            "=================================================================\n",
            "Total params: 16,812,353\n",
            "Trainable params: 2,097,665\n",
            "Non-trainable params: 14,714,688\n",
            "_________________________________________________________________\n"
          ],
          "name": "stdout"
        }
      ]
    },
    {
      "metadata": {
        "id": "E68OZRcKkQoU",
        "colab_type": "text"
      },
      "cell_type": "markdown",
      "source": [
        "### 컴파일을 수행해야 변경사항이 적용된다"
      ]
    },
    {
      "metadata": {
        "id": "uG0pDWWMHKkk",
        "colab_type": "code",
        "outputId": "b6c89dae-8ee7-4a03-f553-6560df44a10c",
        "colab": {
          "base_uri": "https://localhost:8080/",
          "height": 53
        }
      },
      "cell_type": "code",
      "source": [
        "train_datagen = ImageDataGenerator(\n",
        "  rescale= 1./255,\n",
        "  rotation_range = 40,\n",
        "  width_shift_range = 0.2,\n",
        "  height_shift_range = 0.2,\n",
        "  shear_range=0.2,\n",
        "  zoom_range=0.2,\n",
        "  horizontal_flip = True,\n",
        "  fill_mode='nearest')\n",
        "\n",
        "validation_datagen = ImageDataGenerator(rescale = 1./255)\n",
        "\n",
        "train_generator = train_datagen.flow_from_directory(directory=train_dir,\n",
        "\t\t\t\t\t\t\t\t\t\t\t   target_size=(img_width,img_height),\n",
        "\t\t\t\t\t\t\t\t\t\t\t   class_mode='binary',\n",
        "\t\t\t\t\t\t\t\t\t\t\t   batch_size=20)\n",
        "\n",
        "validation_generator = validation_datagen.flow_from_directory(directory=validation_dir,\n",
        "\t\t\t\t\t\t\t\t\t\t\t   target_size=(img_width,img_height),\n",
        "\t\t\t\t\t\t\t\t\t\t\t   class_mode='binary',\n",
        "\t\t\t\t\t\t\t\t\t\t\t   batch_size=20)\n",
        "\n",
        "\n"
      ],
      "execution_count": 21,
      "outputs": [
        {
          "output_type": "stream",
          "text": [
            "Found 2000 images belonging to 2 classes.\n",
            "Found 1000 images belonging to 2 classes.\n"
          ],
          "name": "stdout"
        }
      ]
    },
    {
      "metadata": {
        "id": "PNj36PXplaCx",
        "colab_type": "text"
      },
      "cell_type": "markdown",
      "source": [
        "### 과대적합이 줄어든 것을 볼 수 있다."
      ]
    },
    {
      "metadata": {
        "id": "Cpgy1ZUjHKhU",
        "colab_type": "code",
        "outputId": "5c4a1ce0-0c82-432d-d5b5-d475a7e13a43",
        "colab": {
          "base_uri": "https://localhost:8080/",
          "height": 1097
        }
      },
      "cell_type": "code",
      "source": [
        "model.compile(loss='binary_crossentropy',\n",
        "              optimizer=optimizers.RMSprop(lr=2e-5),\n",
        "              metrics=['acc'])\n",
        "\n",
        "\n",
        "history = model.fit_generator(\n",
        "    generator=train_generator, \n",
        "    steps_per_epoch=100,\n",
        "    epochs=30,\n",
        "    validation_data=validation_generator,\n",
        "    validation_steps=50)"
      ],
      "execution_count": 22,
      "outputs": [
        {
          "output_type": "stream",
          "text": [
            "Epoch 1/30\n",
            "100/100 [==============================] - 27s 272ms/step - loss: 0.5883 - acc: 0.6925 - val_loss: 0.4478 - val_acc: 0.8270\n",
            "Epoch 2/30\n",
            "100/100 [==============================] - 26s 256ms/step - loss: 0.4791 - acc: 0.7810 - val_loss: 0.3710 - val_acc: 0.8450\n",
            "Epoch 3/30\n",
            "100/100 [==============================] - 26s 256ms/step - loss: 0.4315 - acc: 0.8100 - val_loss: 0.3334 - val_acc: 0.8610\n",
            "Epoch 4/30\n",
            "100/100 [==============================] - 26s 256ms/step - loss: 0.4015 - acc: 0.8255 - val_loss: 0.3143 - val_acc: 0.8670\n",
            "Epoch 5/30\n",
            "100/100 [==============================] - 26s 256ms/step - loss: 0.3732 - acc: 0.8370 - val_loss: 0.3110 - val_acc: 0.8620\n",
            "Epoch 6/30\n",
            "100/100 [==============================] - 26s 256ms/step - loss: 0.3623 - acc: 0.8505 - val_loss: 0.2968 - val_acc: 0.8660\n",
            "Epoch 7/30\n",
            "100/100 [==============================] - 26s 255ms/step - loss: 0.3582 - acc: 0.8435 - val_loss: 0.2931 - val_acc: 0.8740\n",
            "Epoch 8/30\n",
            "100/100 [==============================] - 26s 255ms/step - loss: 0.3519 - acc: 0.8430 - val_loss: 0.2825 - val_acc: 0.8760\n",
            "Epoch 9/30\n",
            "100/100 [==============================] - 26s 256ms/step - loss: 0.3516 - acc: 0.8415 - val_loss: 0.2721 - val_acc: 0.8790\n",
            "Epoch 10/30\n",
            "100/100 [==============================] - 26s 255ms/step - loss: 0.3279 - acc: 0.8550 - val_loss: 0.2669 - val_acc: 0.8780\n",
            "Epoch 11/30\n",
            "100/100 [==============================] - 26s 256ms/step - loss: 0.3364 - acc: 0.8495 - val_loss: 0.2628 - val_acc: 0.8840\n",
            "Epoch 12/30\n",
            "100/100 [==============================] - 26s 255ms/step - loss: 0.3128 - acc: 0.8755 - val_loss: 0.2674 - val_acc: 0.8830\n",
            "Epoch 13/30\n",
            "100/100 [==============================] - 26s 256ms/step - loss: 0.3210 - acc: 0.8560 - val_loss: 0.2585 - val_acc: 0.8820\n",
            "Epoch 14/30\n",
            "100/100 [==============================] - 26s 256ms/step - loss: 0.3177 - acc: 0.8620 - val_loss: 0.2590 - val_acc: 0.8870\n",
            "Epoch 15/30\n",
            "100/100 [==============================] - 26s 256ms/step - loss: 0.3196 - acc: 0.8625 - val_loss: 0.2551 - val_acc: 0.8870\n",
            "Epoch 16/30\n",
            "100/100 [==============================] - 26s 257ms/step - loss: 0.3197 - acc: 0.8665 - val_loss: 0.2552 - val_acc: 0.8910\n",
            "Epoch 17/30\n",
            "100/100 [==============================] - 26s 255ms/step - loss: 0.3055 - acc: 0.8690 - val_loss: 0.2670 - val_acc: 0.8910\n",
            "Epoch 18/30\n",
            "100/100 [==============================] - 26s 256ms/step - loss: 0.3135 - acc: 0.8680 - val_loss: 0.2807 - val_acc: 0.8800\n",
            "Epoch 19/30\n",
            "100/100 [==============================] - 26s 255ms/step - loss: 0.3074 - acc: 0.8605 - val_loss: 0.2522 - val_acc: 0.8880\n",
            "Epoch 20/30\n",
            "100/100 [==============================] - 26s 256ms/step - loss: 0.2973 - acc: 0.8785 - val_loss: 0.2545 - val_acc: 0.8900\n",
            "Epoch 21/30\n",
            "100/100 [==============================] - 26s 256ms/step - loss: 0.3020 - acc: 0.8710 - val_loss: 0.2501 - val_acc: 0.8870\n",
            "Epoch 22/30\n",
            "100/100 [==============================] - 26s 256ms/step - loss: 0.2920 - acc: 0.8710 - val_loss: 0.2521 - val_acc: 0.8890\n",
            "Epoch 23/30\n",
            "100/100 [==============================] - 26s 256ms/step - loss: 0.2962 - acc: 0.8735 - val_loss: 0.2508 - val_acc: 0.8930\n",
            "Epoch 24/30\n",
            "100/100 [==============================] - 26s 255ms/step - loss: 0.2896 - acc: 0.8650 - val_loss: 0.2778 - val_acc: 0.8900\n",
            "Epoch 25/30\n",
            "100/100 [==============================] - 26s 257ms/step - loss: 0.2877 - acc: 0.8745 - val_loss: 0.2564 - val_acc: 0.8920\n",
            "Epoch 26/30\n",
            "100/100 [==============================] - 26s 255ms/step - loss: 0.2735 - acc: 0.8900 - val_loss: 0.2504 - val_acc: 0.8940\n",
            "Epoch 27/30\n",
            "100/100 [==============================] - 26s 256ms/step - loss: 0.2960 - acc: 0.8740 - val_loss: 0.2601 - val_acc: 0.8950\n",
            "Epoch 28/30\n",
            "100/100 [==============================] - 26s 256ms/step - loss: 0.2857 - acc: 0.8760 - val_loss: 0.2822 - val_acc: 0.8910\n",
            "Epoch 29/30\n",
            "100/100 [==============================] - 26s 255ms/step - loss: 0.2943 - acc: 0.8730 - val_loss: 0.2525 - val_acc: 0.8920\n",
            "Epoch 30/30\n",
            "100/100 [==============================] - 26s 257ms/step - loss: 0.2864 - acc: 0.8745 - val_loss: 0.2513 - val_acc: 0.8930\n"
          ],
          "name": "stdout"
        }
      ]
    },
    {
      "metadata": {
        "id": "5d1NMELUHKd-",
        "colab_type": "code",
        "outputId": "9b9af3cf-8de6-497f-ec7c-e11f15b408dc",
        "colab": {
          "base_uri": "https://localhost:8080/",
          "height": 561
        }
      },
      "cell_type": "code",
      "source": [
        "acc = history.history['acc']\n",
        "val_acc = history.history['val_acc']\n",
        "\n",
        "loss = history.history['loss']\n",
        "val_loss = history.history['val_loss']\n",
        "\n",
        "epochs = range(len(acc))\n",
        "\n",
        "plt.plot(epochs, acc)\n",
        "plt.plot(epochs, val_acc)\n",
        "plt.title('Training and validation accuracy')\n",
        "\n",
        "plt.figure()\n",
        "\n",
        "plt.plot(epochs, loss)\n",
        "plt.plot(epochs, val_loss)\n",
        "plt.title('Training and validation loss')"
      ],
      "execution_count": 23,
      "outputs": [
        {
          "output_type": "execute_result",
          "data": {
            "text/plain": [
              "Text(0.5,1,u'Training and validation loss')"
            ]
          },
          "metadata": {
            "tags": []
          },
          "execution_count": 23
        },
        {
          "output_type": "display_data",
          "data": {
            "image/png": "[encoded data removed]",
            "text/plain": [
              "<matplotlib.figure.Figure at 0x7feb63ec8e10>"
            ]
          },
          "metadata": {
            "tags": []
          }
        },
        {
          "output_type": "display_data",
          "data": {
            "image/png": "[encoded data removed]",
            "text/plain": [
              "<matplotlib.figure.Figure at 0x7feb63aaf8d0>"
            ]
          },
          "metadata": {
            "tags": []
          }
        }
      ]
    },
    {
      "metadata": {
        "id": "0qC0I1Xglvbp",
        "colab_type": "text"
      },
      "cell_type": "markdown",
      "source": [
        "## 미세조정 방법\n",
        "- 상위 계층 몇개를 재학습시킨다\n",
        "- 앞에서 소개한 절차, 즉, 전결합망(top)부분을 먼저 학습시킨 후에 상위계층의 미세조정을 해야 한다 (한번에 학습하면 안되고 두 단계로 나누어야 함)\n",
        "\n",
        "         "
      ]
    },
    {
      "metadata": {
        "id": "t5XAI5qT2M8W",
        "colab_type": "code",
        "outputId": "c18752b7-fee8-43e7-ec92-83f2e31f0653",
        "colab": {
          "base_uri": "https://localhost:8080/",
          "height": 827
        }
      },
      "cell_type": "code",
      "source": [
        "conv_base.summary()"
      ],
      "execution_count": 24,
      "outputs": [
        {
          "output_type": "stream",
          "text": [
            "_________________________________________________________________\n",
            "Layer (type)                 Output Shape              Param #   \n",
            "=================================================================\n",
            "input_1 (InputLayer)         (None, 150, 150, 3)       0         \n",
            "_________________________________________________________________\n",
            "block1_conv1 (Conv2D)        (None, 150, 150, 64)      1792      \n",
            "_________________________________________________________________\n",
            "block1_conv2 (Conv2D)        (None, 150, 150, 64)      36928     \n",
            "_________________________________________________________________\n",
            "block1_pool (MaxPooling2D)   (None, 75, 75, 64)        0         \n",
            "_________________________________________________________________\n",
            "block2_conv1 (Conv2D)        (None, 75, 75, 128)       73856     \n",
            "_________________________________________________________________\n",
            "block2_conv2 (Conv2D)        (None, 75, 75, 128)       147584    \n",
            "_________________________________________________________________\n",
            "block2_pool (MaxPooling2D)   (None, 37, 37, 128)       0         \n",
            "_________________________________________________________________\n",
            "block3_conv1 (Conv2D)        (None, 37, 37, 256)       295168    \n",
            "_________________________________________________________________\n",
            "block3_conv2 (Conv2D)        (None, 37, 37, 256)       590080    \n",
            "_________________________________________________________________\n",
            "block3_conv3 (Conv2D)        (None, 37, 37, 256)       590080    \n",
            "_________________________________________________________________\n",
            "block3_pool (MaxPooling2D)   (None, 18, 18, 256)       0         \n",
            "_________________________________________________________________\n",
            "block4_conv1 (Conv2D)        (None, 18, 18, 512)       1180160   \n",
            "_________________________________________________________________\n",
            "block4_conv2 (Conv2D)        (None, 18, 18, 512)       2359808   \n",
            "_________________________________________________________________\n",
            "block4_conv3 (Conv2D)        (None, 18, 18, 512)       2359808   \n",
            "_________________________________________________________________\n",
            "block4_pool (MaxPooling2D)   (None, 9, 9, 512)         0         \n",
            "_________________________________________________________________\n",
            "block5_conv1 (Conv2D)        (None, 9, 9, 512)         2359808   \n",
            "_________________________________________________________________\n",
            "block5_conv2 (Conv2D)        (None, 9, 9, 512)         2359808   \n",
            "_________________________________________________________________\n",
            "block5_conv3 (Conv2D)        (None, 9, 9, 512)         2359808   \n",
            "_________________________________________________________________\n",
            "block5_pool (MaxPooling2D)   (None, 4, 4, 512)         0         \n",
            "=================================================================\n",
            "Total params: 14,714,688\n",
            "Trainable params: 0\n",
            "Non-trainable params: 14,714,688\n",
            "_________________________________________________________________\n"
          ],
          "name": "stdout"
        }
      ]
    },
    {
      "metadata": {
        "id": "RAUd8YyW2blO",
        "colab_type": "text"
      },
      "cell_type": "markdown",
      "source": [
        "### 위에서 block 5 부분만 미세조정 하겠다"
      ]
    },
    {
      "metadata": {
        "id": "pEVEbvcW2TBl",
        "colab_type": "code",
        "colab": {}
      },
      "cell_type": "code",
      "source": [
        "conv_base.trainable = True\n",
        "\n",
        "set_trainable = False\n",
        "for layer in conv_base.layers:\n",
        "  if layer.name == 'block5_conv1':\n",
        "    set_trainable = True\n",
        "  if set_trainable:\n",
        "    layer.trainable = True\n",
        "  else:\n",
        "    layer.trainable = False"
      ],
      "execution_count": 0,
      "outputs": []
    },
    {
      "metadata": {
        "id": "7uCc31nj3lJq",
        "colab_type": "text"
      },
      "cell_type": "markdown",
      "source": [
        "### 학습률을 작게 조정한다 (천천히 학습하도록)"
      ]
    },
    {
      "metadata": {
        "id": "oEZvEBLt3fZl",
        "colab_type": "code",
        "outputId": "e1a2cdaf-755d-4ea8-86f8-5225e048d79d",
        "colab": {
          "base_uri": "https://localhost:8080/",
          "height": 1097
        }
      },
      "cell_type": "code",
      "source": [
        "model.compile(loss='binary_crossentropy',\n",
        "              optimizer=optimizers.RMSprop(lr=1e-5),\n",
        "              metrics=['acc'])\n",
        "\n",
        "\n",
        "history = model.fit_generator(\n",
        "    generator=train_generator, \n",
        "    steps_per_epoch=100,\n",
        "    epochs=30,\n",
        "    validation_data=validation_generator,\n",
        "    validation_steps=50)"
      ],
      "execution_count": 26,
      "outputs": [
        {
          "output_type": "stream",
          "text": [
            "Epoch 1/30\n",
            "100/100 [==============================] - 29s 285ms/step - loss: 0.2809 - acc: 0.8755 - val_loss: 0.2404 - val_acc: 0.9220\n",
            "Epoch 2/30\n",
            "100/100 [==============================] - 27s 266ms/step - loss: 0.2532 - acc: 0.8905 - val_loss: 0.2461 - val_acc: 0.9160\n",
            "Epoch 3/30\n",
            "100/100 [==============================] - 27s 265ms/step - loss: 0.2267 - acc: 0.9080 - val_loss: 0.1832 - val_acc: 0.9270\n",
            "Epoch 4/30\n",
            "100/100 [==============================] - 27s 266ms/step - loss: 0.2272 - acc: 0.9040 - val_loss: 0.2541 - val_acc: 0.9140\n",
            "Epoch 5/30\n",
            "100/100 [==============================] - 27s 266ms/step - loss: 0.1965 - acc: 0.9180 - val_loss: 0.1977 - val_acc: 0.9190\n",
            "Epoch 6/30\n",
            "100/100 [==============================] - 27s 265ms/step - loss: 0.1786 - acc: 0.9240 - val_loss: 0.2233 - val_acc: 0.9230\n",
            "Epoch 7/30\n",
            "100/100 [==============================] - 27s 266ms/step - loss: 0.1893 - acc: 0.9210 - val_loss: 0.1925 - val_acc: 0.9290\n",
            "Epoch 8/30\n",
            "100/100 [==============================] - 27s 265ms/step - loss: 0.1730 - acc: 0.9280 - val_loss: 0.1804 - val_acc: 0.9310\n",
            "Epoch 9/30\n",
            "100/100 [==============================] - 27s 265ms/step - loss: 0.1553 - acc: 0.9375 - val_loss: 0.1974 - val_acc: 0.9410\n",
            "Epoch 10/30\n",
            "100/100 [==============================] - 27s 266ms/step - loss: 0.1576 - acc: 0.9350 - val_loss: 0.1876 - val_acc: 0.9380\n",
            "Epoch 11/30\n",
            "100/100 [==============================] - 27s 265ms/step - loss: 0.1308 - acc: 0.9480 - val_loss: 0.2640 - val_acc: 0.9280\n",
            "Epoch 12/30\n",
            "100/100 [==============================] - 27s 265ms/step - loss: 0.1523 - acc: 0.9395 - val_loss: 0.3408 - val_acc: 0.9010\n",
            "Epoch 13/30\n",
            "100/100 [==============================] - 27s 265ms/step - loss: 0.1370 - acc: 0.9395 - val_loss: 0.1763 - val_acc: 0.9350\n",
            "Epoch 14/30\n",
            "100/100 [==============================] - 26s 264ms/step - loss: 0.1208 - acc: 0.9530 - val_loss: 0.1931 - val_acc: 0.9400\n",
            "Epoch 15/30\n",
            "100/100 [==============================] - 26s 264ms/step - loss: 0.1188 - acc: 0.9515 - val_loss: 0.2000 - val_acc: 0.9340\n",
            "Epoch 16/30\n",
            "100/100 [==============================] - 27s 265ms/step - loss: 0.1043 - acc: 0.9645 - val_loss: 0.1920 - val_acc: 0.9430\n",
            "Epoch 17/30\n",
            "100/100 [==============================] - 26s 264ms/step - loss: 0.1100 - acc: 0.9560 - val_loss: 0.1866 - val_acc: 0.9300\n",
            "Epoch 18/30\n",
            "100/100 [==============================] - 26s 264ms/step - loss: 0.1008 - acc: 0.9610 - val_loss: 0.1505 - val_acc: 0.9500\n",
            "Epoch 19/30\n",
            "100/100 [==============================] - 26s 264ms/step - loss: 0.1166 - acc: 0.9570 - val_loss: 0.1763 - val_acc: 0.9470\n",
            "Epoch 20/30\n",
            "100/100 [==============================] - 26s 264ms/step - loss: 0.0889 - acc: 0.9670 - val_loss: 0.1842 - val_acc: 0.9410\n",
            "Epoch 21/30\n",
            "100/100 [==============================] - 26s 265ms/step - loss: 0.1037 - acc: 0.9545 - val_loss: 0.2032 - val_acc: 0.9410\n",
            "Epoch 22/30\n",
            "100/100 [==============================] - 26s 265ms/step - loss: 0.0801 - acc: 0.9680 - val_loss: 0.1881 - val_acc: 0.9450\n",
            "Epoch 23/30\n",
            "100/100 [==============================] - 27s 265ms/step - loss: 0.0887 - acc: 0.9630 - val_loss: 0.2255 - val_acc: 0.9380\n",
            "Epoch 24/30\n",
            "100/100 [==============================] - 26s 265ms/step - loss: 0.0834 - acc: 0.9645 - val_loss: 0.2209 - val_acc: 0.9360\n",
            "Epoch 25/30\n",
            "100/100 [==============================] - 27s 266ms/step - loss: 0.0753 - acc: 0.9750 - val_loss: 0.1999 - val_acc: 0.9390\n",
            "Epoch 26/30\n",
            "100/100 [==============================] - 26s 265ms/step - loss: 0.0898 - acc: 0.9670 - val_loss: 0.2300 - val_acc: 0.9220\n",
            "Epoch 27/30\n",
            "100/100 [==============================] - 27s 265ms/step - loss: 0.0754 - acc: 0.9745 - val_loss: 0.2076 - val_acc: 0.9480\n",
            "Epoch 28/30\n",
            "100/100 [==============================] - 27s 265ms/step - loss: 0.0837 - acc: 0.9670 - val_loss: 0.2035 - val_acc: 0.9470\n",
            "Epoch 29/30\n",
            "100/100 [==============================] - 27s 265ms/step - loss: 0.0735 - acc: 0.9705 - val_loss: 0.2200 - val_acc: 0.9350\n",
            "Epoch 30/30\n",
            "100/100 [==============================] - 27s 266ms/step - loss: 0.0756 - acc: 0.9680 - val_loss: 0.2323 - val_acc: 0.9400\n"
          ],
          "name": "stdout"
        }
      ]
    },
    {
      "metadata": {
        "id": "QCbU7FQU47OP",
        "colab_type": "text"
      },
      "cell_type": "markdown",
      "source": [
        "## 성능이 92%로 1% 정도 향상되었다.\n",
        "- 주의 할 것은 손실함수는 향상되지 않는 것으로 나타나도, 성능이 향상될 수 있다는 것이다. (분류 성능은 어떤 임계값만 넘으면 활률적으로 개선될 수 있다)\n",
        "\n",
        "## 요약\n",
        "- 과대적합을 줄이기 위해서 데이터 확장을 사용\n",
        "- 전이학습 중 특성 추출방식 소개\n",
        "- 전이학습 중 미세조정 방식 소개"
      ]
    },
    {
      "metadata": {
        "id": "8zFN7erS5SEV",
        "colab_type": "code",
        "colab": {}
      },
      "cell_type": "code",
      "source": [
        ""
      ],
      "execution_count": 0,
      "outputs": []
    }
  ]
}